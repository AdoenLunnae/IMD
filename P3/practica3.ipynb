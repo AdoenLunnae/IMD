{
 "cells": [
  {
   "cell_type": "markdown",
   "metadata": {},
   "source": [
    "# Práctica 3: Clasificación con scikit-learn"
   ]
  },
  {
   "cell_type": "markdown",
   "metadata": {},
   "source": [
    "## Importar módulos"
   ]
  },
  {
   "cell_type": "code",
   "execution_count": 152,
   "metadata": {},
   "outputs": [],
   "source": [
    "%matplotlib inline\n",
    "\n",
    "import pandas as pd\n",
    "import numpy as np\n",
    "import matplotlib\n",
    "import matplotlib.pyplot as plt\n",
    "\n",
    "import sklearn\n",
    "from sklearn import preprocessing, model_selection, neighbors, svm, tree"
   ]
  },
  {
   "cell_type": "markdown",
   "metadata": {},
   "source": [
    "## 1. Seleccionar datasets"
   ]
  },
  {
   "cell_type": "markdown",
   "metadata": {},
   "source": [
    "Los conjuntos de datos seleccionados se encuentran en el directorio `datasets`."
   ]
  },
  {
   "cell_type": "code",
   "execution_count": 215,
   "metadata": {},
   "outputs": [],
   "source": [
    "accent_df = pd.read_csv('datasets/accent.csv', header=0)\n",
    "avila_df = pd.read_csv('datasets/avila.csv', header=0)\n",
    "cancer_df = pd.read_csv('datasets/cancer.csv', header=0, na_values='?')\n",
    "digits_df = pd.read_csv('datasets/digits.csv', header=None)\n",
    "fertility_df = pd.read_csv('datasets/fertility.csv', header=0)\n",
    "glass_df = pd.read_csv('datasets/glass.csv', header=0)\n",
    "iris_df = pd.read_csv('datasets/iris.csv', header=None)\n",
    "column_df = pd.read_csv('datasets/column.csv', header=0)\n",
    "phishing_df = pd.read_csv('datasets/phishing.csv', header=None)\n",
    "wine_df = pd.read_csv('datasets/wine.csv', header=0)"
   ]
  },
  {
   "cell_type": "markdown",
   "metadata": {},
   "source": [
    "### Preprocesamiento"
   ]
  },
  {
   "cell_type": "code",
   "execution_count": 216,
   "metadata": {},
   "outputs": [],
   "source": [
    "accent_df = accent_df[accent_df.columns.to_list()[1:]+[accent_df.columns.to_list()[0]]]"
   ]
  },
  {
   "cell_type": "code",
   "execution_count": 217,
   "metadata": {
    "scrolled": false
   },
   "outputs": [],
   "source": [
    "cancer_df = cancer_df.drop('id', axis=1)"
   ]
  },
  {
   "cell_type": "code",
   "execution_count": 218,
   "metadata": {},
   "outputs": [],
   "source": [
    "cancer_df.bare_nuclei = cancer_df.bare_nuclei.fillna(np.mean(cancer_df.bare_nuclei)).astype('int')    "
   ]
  },
  {
   "cell_type": "code",
   "execution_count": 219,
   "metadata": {},
   "outputs": [],
   "source": [
    "dfs = [accent_df, avila_df, cancer_df, digits_df, fertility_df, glass_df, iris_df, column_df, phishing_df, wine_df]\n",
    "df_names = ['Accents', 'Avila', 'Cancer', 'Digits', 'Fertility', 'Glass', 'Iris', 'Vertebral Column', 'Phishing', 'Wine'] "
   ]
  },
  {
   "cell_type": "code",
   "execution_count": 220,
   "metadata": {},
   "outputs": [],
   "source": [
    "for df in dfs:\n",
    "    df.iloc[:,-1] = df.iloc[:,-1].astype('category')"
   ]
  },
  {
   "cell_type": "code",
   "execution_count": 221,
   "metadata": {
    "scrolled": true
   },
   "outputs": [],
   "source": [
    "X = [df.iloc[:, :-1].values for df in dfs]\n",
    "y = [df.iloc[:, -1].values for df in dfs]"
   ]
  },
  {
   "cell_type": "markdown",
   "metadata": {},
   "source": [
    "## 2. Seleccionar clasificadores"
   ]
  },
  {
   "cell_type": "markdown",
   "metadata": {},
   "source": [
    "Usaremos los clasificadores siguientes:\n",
    "- `sklearn.neighbors.KNeighborsClassifier`\n",
    "- `sklearn.tree.DecisionTreeClassifier`\n",
    "- `sklearn.svm.SVC`"
   ]
  },
  {
   "cell_type": "code",
   "execution_count": 247,
   "metadata": {
    "scrolled": false
   },
   "outputs": [],
   "source": [
    "knn = neighbors.KNeighborsClassifier()\n",
    "dtree = tree.DecisionTreeClassifier()\n",
    "svc = svm.SVC()"
   ]
  },
  {
   "cell_type": "markdown",
   "metadata": {},
   "source": [
    "## 3. Entrenar los modelos"
   ]
  },
  {
   "cell_type": "markdown",
   "metadata": {},
   "source": [
    "Usaremos el método _hold out_ con porcentajes 70% entrenamiento y 30% test. Realizaremos 5 entrenamientos distintos con cada dataset. "
   ]
  },
  {
   "cell_type": "code",
   "execution_count": 262,
   "metadata": {},
   "outputs": [],
   "source": [
    "knn_scores_train = np.zeros([len(dfs),5])\n",
    "knn_scores_test = np.zeros([len(dfs),5])\n",
    "\n",
    "dtree_scores_train = np.zeros([len(dfs),5])\n",
    "dtree_scores_test = np.zeros([len(dfs),5])\n",
    "\n",
    "svc_scores_train = np.zeros([len(dfs),5])\n",
    "svc_scores_test = np.zeros([len(dfs),5])\n",
    "\n",
    "\n",
    "\n",
    "for i in range(len(dfs)):\n",
    "    for j in range(5):\n",
    "        X_train, X_test, y_train, y_test = model_selection.train_test_split(X[i], y[i], test_size=.3)\n",
    "        sc = preprocessing.MinMaxScaler()\n",
    "        sc.fit_transform(X_train)\n",
    "        sc.transform(X_test)\n",
    "        \n",
    "        knn.fit(X_train, y_train)\n",
    "        dtree.fit(X_train, y_train)\n",
    "        svc.fit(X_train, y_train)\n",
    "        \n",
    "        knn_scores_train[i][j] = knn.score(X_train, y_train)*100\n",
    "        knn_scores_test[i][j] = knn.score(X_test, y_test)*100\n",
    "\n",
    "        dtree_scores_train[i][j] = dtree.score(X_train, y_train)*100\n",
    "        dtree_scores_test[i][j] = dtree.score(X_test, y_test)*100\n",
    "        \n",
    "        svc_scores_train[i][j] = svc.score(X_train, y_train)*100\n",
    "        svc_scores_test[i][j] = svc.score(X_test, y_test)*100\n",
    "        \n",
    "        \n",
    "        \n",
    "        \n"
   ]
  },
  {
   "cell_type": "code",
   "execution_count": 263,
   "metadata": {
    "scrolled": false
   },
   "outputs": [
    {
     "name": "stdout",
     "output_type": "stream",
     "text": [
      "KNN Scores\n",
      "==========\n",
      "Accents:\n",
      "\tTrain -> 88.43 with std. 1.52\n",
      "\tTest -> 77.58 with std. 3.40\n",
      "Avila:\n",
      "\tTrain -> 81.24 with std. 0.41\n",
      "\tTest -> 70.82 with std. 0.56\n",
      "Cancer:\n",
      "\tTrain -> 97.71 with std. 0.40\n",
      "\tTest -> 96.48 with std. 0.65\n",
      "Digits:\n",
      "\tTrain -> 99.09 with std. 0.09\n",
      "\tTest -> 98.45 with std. 0.14\n",
      "Fertility:\n",
      "\tTrain -> 88.00 with std. 1.46\n",
      "\tTest -> 85.33 with std. 3.40\n",
      "Glass:\n",
      "\tTrain -> 76.11 with std. 1.38\n",
      "\tTest -> 66.77 with std. 2.50\n",
      "Iris:\n",
      "\tTrain -> 97.33 with std. 1.11\n",
      "\tTest -> 96.00 with std. 0.89\n",
      "Vertebral Column:\n",
      "\tTrain -> 88.57 with std. 1.47\n",
      "\tTest -> 85.38 with std. 3.09\n",
      "Phishing:\n",
      "\tTrain -> 91.30 with std. 0.81\n",
      "\tTest -> 85.71 with std. 1.82\n",
      "Wine:\n",
      "\tTrain -> 65.06 with std. 1.27\n",
      "\tTest -> 49.33 with std. 2.02\n"
     ]
    }
   ],
   "source": [
    "print('KNN Scores')\n",
    "print('==========')\n",
    "for i in range(len(dfs)):\n",
    "    print(f'{df_names[i]}:')\n",
    "    print(f'\\tTrain -> {np.mean(knn_scores_train[i]):.2f} with std. {np.std(knn_scores_train[i]):.2f}')\n",
    "    print(f'\\tTest -> {np.mean(knn_scores_test[i]):.2f} with std. {np.std(knn_scores_test[i]):.2f}')"
   ]
  },
  {
   "cell_type": "code",
   "execution_count": 264,
   "metadata": {},
   "outputs": [
    {
     "name": "stdout",
     "output_type": "stream",
     "text": [
      "Decision Tree Scores\n",
      "====================\n",
      "Accents:\n",
      "\tTrain -> 100.00 with std. 0.00\n",
      "\tTest -> 61.82 with std. 5.51\n",
      "Avila:\n",
      "\tTrain -> 100.00 with std. 0.00\n",
      "\tTest -> 93.81 with std. 0.71\n",
      "Cancer:\n",
      "\tTrain -> 100.00 with std. 0.00\n",
      "\tTest -> 94.67 with std. 0.76\n",
      "Digits:\n",
      "\tTrain -> 100.00 with std. 0.00\n",
      "\tTest -> 88.96 with std. 1.02\n",
      "Fertility:\n",
      "\tTrain -> 99.43 with std. 0.70\n",
      "\tTest -> 82.00 with std. 3.40\n",
      "Glass:\n",
      "\tTrain -> 100.00 with std. 0.00\n",
      "\tTest -> 65.85 with std. 7.93\n",
      "Iris:\n",
      "\tTrain -> 100.00 with std. 0.00\n",
      "\tTest -> 95.56 with std. 2.81\n",
      "Vertebral Column:\n",
      "\tTrain -> 100.00 with std. 0.00\n",
      "\tTest -> 79.57 with std. 2.63\n",
      "Phishing:\n",
      "\tTrain -> 96.60 with std. 0.26\n",
      "\tTest -> 87.24 with std. 1.83\n",
      "Wine:\n",
      "\tTrain -> 100.00 with std. 0.00\n",
      "\tTest -> 58.92 with std. 1.11\n"
     ]
    }
   ],
   "source": [
    "print('Decision Tree Scores')\n",
    "print('====================')\n",
    "for i in range(len(dfs)):\n",
    "    print(f'{df_names[i]}:')\n",
    "    print(f'\\tTrain -> {np.mean(dtree_scores_train[i]):.2f} with std. {np.std(dtree_scores_train[i]):.2f}')\n",
    "    print(f'\\tTest -> {np.mean(dtree_scores_test[i]):.2f} with std. {np.std(dtree_scores_test[i]):.2f}')"
   ]
  },
  {
   "cell_type": "code",
   "execution_count": 265,
   "metadata": {},
   "outputs": [
    {
     "name": "stdout",
     "output_type": "stream",
     "text": [
      "SVM Scores\n",
      "==========\n",
      "Accents:\n",
      "\tTrain -> 68.17 with std. 2.45\n",
      "\tTest -> 61.62 with std. 3.44\n",
      "Avila:\n",
      "\tTrain -> 72.85 with std. 0.08\n",
      "\tTest -> 70.24 with std. 0.31\n",
      "Cancer:\n",
      "\tTrain -> 97.42 with std. 0.38\n",
      "\tTest -> 96.76 with std. 0.92\n",
      "Digits:\n",
      "\tTrain -> 99.44 with std. 0.08\n",
      "\tTest -> 98.80 with std. 0.28\n",
      "Fertility:\n",
      "\tTrain -> 87.14 with std. 1.28\n",
      "\tTest -> 90.00 with std. 2.98\n",
      "Glass:\n",
      "\tTrain -> 37.05 with std. 2.30\n",
      "\tTest -> 33.54 with std. 4.90\n",
      "Iris:\n",
      "\tTrain -> 97.33 with std. 0.71\n",
      "\tTest -> 98.22 with std. 0.89\n",
      "Vertebral Column:\n",
      "\tTrain -> 85.25 with std. 2.29\n",
      "\tTest -> 84.73 with std. 2.19\n",
      "Phishing:\n",
      "\tTrain -> 89.31 with std. 1.03\n",
      "\tTest -> 85.96 with std. 0.93\n",
      "Wine:\n",
      "\tTrain -> 51.01 with std. 1.00\n",
      "\tTest -> 49.29 with std. 2.06\n"
     ]
    }
   ],
   "source": [
    "print('SVM Scores')\n",
    "print('==========')\n",
    "for i in range(len(dfs)):\n",
    "    print(f'{df_names[i]}:')\n",
    "    print(f'\\tTrain -> {np.mean(svc_scores_train[i]):.2f} with std. {np.std(svc_scores_train[i]):.2f}')\n",
    "    print(f'\\tTest -> {np.mean(svc_scores_test[i]):.2f} with std. {np.std(svc_scores_test[i]):.2f}')"
   ]
  },
  {
   "cell_type": "code",
   "execution_count": 268,
   "metadata": {},
   "outputs": [],
   "source": [
    "average_knn_scores = [np.mean(x) for x in knn_scores_test]\n",
    "knn_score_std = [np.std(x) for x in knn_scores_test]\n",
    "\n",
    "average_dtree_scores = [np.mean(x) for x in dtree_scores_test]\n",
    "dtree_score_std = [np.std(x) for x in dtree_scores_test]\n",
    "\n",
    "average_svc_scores = [np.mean(x) for x in svc_scores_test]\n",
    "svc_score_std = [np.std(x) for x in svc_scores_test]"
   ]
  },
  {
   "cell_type": "code",
   "execution_count": 282,
   "metadata": {},
   "outputs": [
    {
     "data": {
      "image/png": "[encoded data removed]",
      "text/plain": [
       "<Figure size 720x576 with 1 Axes>"
      ]
     },
     "metadata": {
      "needs_background": "light"
     },
     "output_type": "display_data"
    }
   ],
   "source": [
    "x = np.arange(len(dfs)*2, step=2)  # the label locations\n",
    "width = 0.6  # the width of the bars\n",
    "\n",
    "fig, ax = plt.subplots(figsize=(10,8))\n",
    "\n",
    "ax.bar(x - width, average_knn_scores, width, label='KNN', yerr=knn_score_std)\n",
    "ax.bar(x, average_dtree_scores, width, label='DTree', yerr=dtree_score_std)\n",
    "ax.bar(x + width, average_svc_scores, width, label='SVC', yerr=svc_score_std)\n",
    "\n",
    "# Add some text for labels, title and custom x-axis tick labels, etc.\n",
    "ax.set_ylabel('Scores')\n",
    "ax.set_title('Average test score over 5 splits')\n",
    "ax.set_xticks(x)\n",
    "ax.set_xticklabels(df_names, rotation='vertical')\n",
    "ax.legend()\n",
    "\n",
    "plt.show()"
   ]
  },
  {
   "cell_type": "markdown",
   "metadata": {},
   "source": [
    "## 4. Métodos de comparación y evaluación de algoritmos"
   ]
  },
  {
   "cell_type": "markdown",
   "metadata": {},
   "source": [
    "Aplicaremos el test de Wilcoxon a los algoritmos KNN y SVM."
   ]
  },
  {
   "cell_type": "code",
   "execution_count": 315,
   "metadata": {},
   "outputs": [],
   "source": [
    "winner = []\n",
    "difference = []\n",
    "\n",
    "for i in range(len(dfs)):\n",
    "    diff = average_knn_scores[i]-average_dtree_scores[i]\n",
    "    difference.append(\n",
    "        (abs(diff), i)\n",
    "    )\n",
    "    w = 1 if diff > 0 else -1\n",
    "    winner.append(w)\n",
    "    \n",
    "difference.sort(key=lambda x: x[0])\n",
    "\n",
    "r_plus = 0\n",
    "r_minus = 0\n",
    "for i, d in enumerate(difference):\n",
    "    if winner[d[1]] == 1:\n",
    "        r_plus += i+1\n",
    "    else:\n",
    "        r_minus += i+1\n"
   ]
  },
  {
   "cell_type": "markdown",
   "metadata": {},
   "source": [
    "Mirando en la  tabla del test de Wilcoxon, para $N=10$ datasets y $\\alpha=0.05$, el menor de $R^+$ y $R^-$ debe ser menor o igual que 8 para que la diferencia entre los clasificadores sea significativa."
   ]
  },
  {
   "cell_type": "code",
   "execution_count": 316,
   "metadata": {},
   "outputs": [
    {
     "name": "stdout",
     "output_type": "stream",
     "text": [
      "21\n"
     ]
    }
   ],
   "source": [
    "print(min(r_plus, r_minus))"
   ]
  },
  {
   "cell_type": "markdown",
   "metadata": {},
   "source": [
    "Viendo que no lo es, podemos afirmar que no hay una diferencia de rendimiento entre ellos."
   ]
  },
  {
   "cell_type": "markdown",
   "metadata": {},
   "source": [
    "## 6. Aplicar GridSearch a un clasificador"
   ]
  },
  {
   "cell_type": "markdown",
   "metadata": {},
   "source": [
    "Lo haremos con KNN, variando el número de vecinos $K$, el peso de los votos entre uniforme y basado en distancia, y la métrica de distancia (euclídea o manhattan)"
   ]
  },
  {
   "cell_type": "code",
   "execution_count": 330,
   "metadata": {},
   "outputs": [],
   "source": [
    "knn_gc_scores_train = np.zeros(len(dfs))\n",
    "knn_gc_scores_test = np.zeros(len(dfs))\n",
    "\n",
    "for i in range(len(dfs)):\n",
    "        X_train, X_test, y_train, y_test = model_selection.train_test_split(X[i], y[i], test_size=.3)\n",
    "        sc = preprocessing.MinMaxScaler()\n",
    "        sc.fit_transform(X_train)\n",
    "        sc.transform(X_test)\n",
    "        \n",
    "        Ks = np.arange(start=3, stop=12, step=2)\n",
    "        weigths = ['uniform', 'distance']\n",
    "        ps = [1, 2]\n",
    "        \n",
    "        optimal = model_selection.GridSearchCV(\n",
    "            estimator=neighbors.KNeighborsClassifier(),\n",
    "            param_grid=dict(n_neighbors=Ks, weights=weigths, p=ps),\n",
    "            cv=3)\n",
    "        \n",
    "        optimal.fit(X_train, y_train)\n",
    "        \n",
    " \n",
    "        knn_gc_scores_train[i] = optimal.score(X_train, y_train)*100\n",
    "        knn_gc_scores_test[i] = optimal.score(X_test, y_test)*100\n",
    "\n"
   ]
  },
  {
   "cell_type": "code",
   "execution_count": 346,
   "metadata": {},
   "outputs": [
    {
     "name": "stdout",
     "output_type": "stream",
     "text": [
      "KNN with GridSearch Scores\n",
      "==========================\n",
      "Accents:\n",
      "\tTrain -> 100.00\n",
      "\tTest -> 83.84\n",
      "\t6.26 variation wrt to default parameters\n",
      "Avila:\n",
      "\tTrain -> 100.00\n",
      "\tTest -> 82.18\n",
      "\t11.36 variation wrt to default parameters\n",
      "Cancer:\n",
      "\tTrain -> 100.00\n",
      "\tTest -> 97.62\n",
      "\t1.14 variation wrt to default parameters\n",
      "Digits:\n",
      "\tTrain -> 100.00\n",
      "\tTest -> 99.05\n",
      "\t0.60 variation wrt to default parameters\n",
      "Fertility:\n",
      "\tTrain -> 88.57\n",
      "\tTest -> 83.33\n",
      "\t-2.00 variation wrt to default parameters\n",
      "Glass:\n",
      "\tTrain -> 100.00\n",
      "\tTest -> 64.62\n",
      "\t-2.15 variation wrt to default parameters\n",
      "Iris:\n",
      "\tTrain -> 100.00\n",
      "\tTest -> 93.33\n",
      "\t-2.67 variation wrt to default parameters\n",
      "Vertebral Column:\n",
      "\tTrain -> 100.00\n",
      "\tTest -> 89.25\n",
      "\t3.87 variation wrt to default parameters\n",
      "Phishing:\n",
      "\tTrain -> 97.36\n",
      "\tTest -> 87.93\n",
      "\t2.22 variation wrt to default parameters\n",
      "Wine:\n",
      "\tTrain -> 100.00\n",
      "\tTest -> 62.29\n",
      "\t12.96 variation wrt to default parameters\n",
      "\n",
      "Average variation = 3.16\n"
     ]
    }
   ],
   "source": [
    "print('KNN with GridSearch Scores')\n",
    "print('==========================')\n",
    "for i in range(len(dfs)):\n",
    "    print(f'{df_names[i]}:')\n",
    "    print(f'\\tTrain -> {knn_gc_scores_train[i]:.2f}')\n",
    "    print(f'\\tTest -> {knn_gc_scores_test[i]:.2f}')\n",
    "    print(f'\\t{knn_gc_scores_test[i] - average_knn_scores[i]:.2f} variation wrt to default parameters')\n",
    "print(f'\\nAverage variation = {np.mean(knn_gc_scores_test - average_knn_scores):.2f}')"
   ]
  },
  {
   "cell_type": "markdown",
   "metadata": {},
   "source": [
    "Vemos que en general, los resultados son mucho mejores, con un incremento medio del CCR de un 3% frente a los parámetros por defecto, que llega hasta el 13% en algunos casos."
   ]
  }
 ],
 "metadata": {
  "kernelspec": {
   "display_name": "Python 3",
   "language": "python",
   "name": "python3"
  },
  "language_info": {
   "codemirror_mode": {
    "name": "ipython",
    "version": 3
   },
   "file_extension": ".py",
   "mimetype": "text/x-python",
   "name": "python",
   "nbconvert_exporter": "python",
   "pygments_lexer": "ipython3",
   "version": "3.6.9"
  }
 },
 "nbformat": 4,
 "nbformat_minor": 5
}
