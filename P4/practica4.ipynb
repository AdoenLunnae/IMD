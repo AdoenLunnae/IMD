{
 "cells": [
  {
   "cell_type": "markdown",
   "id": "split-convertible",
   "metadata": {},
   "source": [
    "# Práctica 3: Clasificación con scikit-learn"
   ]
  },
  {
   "cell_type": "markdown",
   "id": "retired-square",
   "metadata": {},
   "source": [
    "## Importar módulos"
   ]
  },
  {
   "cell_type": "code",
   "execution_count": 73,
   "id": "thermal-marketplace",
   "metadata": {},
   "outputs": [],
   "source": [
    "%matplotlib inline\n",
    "\n",
    "import pandas as pd\n",
    "import numpy as np\n",
    "import matplotlib\n",
    "import matplotlib.pyplot as plt\n",
    "\n",
    "import sklearn\n",
    "from sklearn import preprocessing, model_selection, neighbors, svm, tree, ensemble"
   ]
  },
  {
   "cell_type": "markdown",
   "id": "through-storage",
   "metadata": {},
   "source": [
    "## Seleccionar datasets"
   ]
  },
  {
   "cell_type": "markdown",
   "id": "celtic-butterfly",
   "metadata": {},
   "source": [
    "Los conjuntos de datos seleccionados se encuentran en el directorio `datasets`."
   ]
  },
  {
   "cell_type": "code",
   "execution_count": 48,
   "id": "sharing-snapshot",
   "metadata": {},
   "outputs": [],
   "source": [
    "accent_df = pd.read_csv('datasets/accent.csv', header=0)\n",
    "avila_df = pd.read_csv('datasets/avila.csv', header=0)\n",
    "cancer_df = pd.read_csv('datasets/cancer.csv', header=0, na_values='?')\n",
    "digits_df = pd.read_csv('datasets/digits.csv', header=None)\n",
    "fertility_df = pd.read_csv('datasets/fertility.csv', header=0)\n",
    "glass_df = pd.read_csv('datasets/glass.csv', header=0)\n",
    "iris_df = pd.read_csv('datasets/iris.csv', header=None)\n",
    "column_df = pd.read_csv('datasets/column.csv', header=0)\n",
    "phishing_df = pd.read_csv('datasets/phishing.csv', header=None)\n",
    "wine_df = pd.read_csv('datasets/wine.csv', header=0)"
   ]
  },
  {
   "cell_type": "markdown",
   "id": "sound-shanghai",
   "metadata": {},
   "source": [
    "### Preprocesamiento\n",
    "Aplicamos el mismo que en la práctica anterior, además de eliminar de Avila y Glass las clases con menos de 10 instancias para poder realizar 10-fold estratificado"
   ]
  },
  {
   "cell_type": "code",
   "execution_count": 49,
   "id": "conscious-platinum",
   "metadata": {},
   "outputs": [],
   "source": [
    "accent_df = accent_df[accent_df.columns.to_list()[1:]+[accent_df.columns.to_list()[0]]]"
   ]
  },
  {
   "cell_type": "code",
   "execution_count": 50,
   "id": "intense-action",
   "metadata": {
    "scrolled": false
   },
   "outputs": [],
   "source": [
    "cancer_df = cancer_df.drop('id', axis=1)"
   ]
  },
  {
   "cell_type": "code",
   "execution_count": 51,
   "id": "renewable-seminar",
   "metadata": {},
   "outputs": [],
   "source": [
    "cancer_df.bare_nuclei = cancer_df.bare_nuclei.fillna(np.mean(cancer_df.bare_nuclei)).astype('int')"
   ]
  },
  {
   "cell_type": "code",
   "execution_count": 52,
   "id": "natural-exhaust",
   "metadata": {},
   "outputs": [],
   "source": [
    "avila_df = avila_df[avila_df['class'] != 'B']\n",
    "glass_df = glass_df[glass_df['class'] != 6]"
   ]
  },
  {
   "cell_type": "code",
   "execution_count": 53,
   "id": "alive-sword",
   "metadata": {},
   "outputs": [],
   "source": [
    "dfs = [accent_df, avila_df, cancer_df, digits_df, fertility_df, glass_df, iris_df, column_df, phishing_df, wine_df]\n",
    "df_names = ['Accents', 'Avila', 'Cancer', 'Digits', 'Fertility', 'Glass', 'Iris', 'Vertebral Column', 'Phishing', 'Wine'] "
   ]
  },
  {
   "cell_type": "code",
   "execution_count": 54,
   "id": "generous-tyler",
   "metadata": {},
   "outputs": [],
   "source": [
    "for df in dfs:\n",
    "    df.iloc[:,-1] = df.iloc[:,-1].astype('category')"
   ]
  },
  {
   "cell_type": "code",
   "execution_count": 55,
   "id": "thorough-influence",
   "metadata": {
    "scrolled": true
   },
   "outputs": [],
   "source": [
    "X = [df.iloc[:, :-1].values for df in dfs]\n",
    "y = [df.iloc[:, -1].values for df in dfs]"
   ]
  },
  {
   "cell_type": "markdown",
   "id": "controlling-opera",
   "metadata": {},
   "source": [
    "## 1. Seleccionar clasificadores"
   ]
  },
  {
   "cell_type": "markdown",
   "id": "steady-jungle",
   "metadata": {},
   "source": [
    "Usaremos los clasificadores siguientes:\n",
    "- `sklearn.neighbors.KNeighborsClassifier`\n",
    "- `sklearn.tree.DecisionTreeClassifier`\n",
    "- `sklearn.svm.SVC`"
   ]
  },
  {
   "cell_type": "markdown",
   "id": "laughing-entrepreneur",
   "metadata": {},
   "source": [
    "## 2. Comparar método base con _ensemble_"
   ]
  },
  {
   "cell_type": "markdown",
   "id": "periodic-vulnerability",
   "metadata": {},
   "source": [
    "### 2.1 Entrenar y aplicar el método base"
   ]
  },
  {
   "cell_type": "markdown",
   "id": "multiple-export",
   "metadata": {},
   "source": [
    "Usaremos el método _hold out_ con porcentajes 70% entrenamiento y 30% test. Realizaremos 5 entrenamientos distintos con cada dataset. "
   ]
  },
  {
   "cell_type": "code",
   "execution_count": 70,
   "id": "defensive-facing",
   "metadata": {},
   "outputs": [],
   "source": [
    "knn_scores = np.empty((len(dfs), 10))\n",
    "svc_scores = np.empty((len(dfs), 10))\n",
    "dtree_scores = np.empty((len(dfs), 10))\n",
    "\n",
    "\n",
    "for i in range(len(dfs)):\n",
    "    knn_scores[i] = model_selection.cross_val_score(neighbors.KNeighborsClassifier(), X[i], y[i], cv=10)\n",
    "    svc_scores[i] = model_selection.cross_val_score(svm.SVC(), X[i], y[i], cv=10)\n",
    "    dtree_scores[i] = model_selection.cross_val_score(tree.DecisionTreeClassifier() ,X[i], y[i], cv=10)"
   ]
  },
  {
   "cell_type": "code",
   "execution_count": 71,
   "id": "collected-recording",
   "metadata": {},
   "outputs": [],
   "source": [
    "average_knn_scores = [np.mean(x) for x in knn_scores]\n",
    "knn_score_std = [np.std(x) for x in knn_scores]\n",
    "\n",
    "average_dtree_scores = [np.mean(x) for x in dtree_scores]\n",
    "dtree_score_std = [np.std(x) for x in dtree_scores]\n",
    "\n",
    "average_svc_scores = [np.mean(x) for x in svc_scores]\n",
    "svc_score_std = [np.std(x) for x in svc_scores]"
   ]
  },
  {
   "cell_type": "code",
   "execution_count": 72,
   "id": "neural-latin",
   "metadata": {},
   "outputs": [
    {
     "data": {
      "image/png": "[encoded data removed]",
      "text/plain": [
       "<Figure size 720x576 with 1 Axes>"
      ]
     },
     "metadata": {
      "needs_background": "light"
     },
     "output_type": "display_data"
    }
   ],
   "source": [
    "x = np.arange(len(dfs)*2, step=2)  # the label locations\n",
    "width = 0.6  # the width of the bars\n",
    "\n",
    "fig, ax = plt.subplots(figsize=(10,8))\n",
    "\n",
    "ax.bar(x - width, average_knn_scores, width, label='KNN', yerr=knn_score_std)\n",
    "ax.bar(x, average_dtree_scores, width, label='DTree', yerr=dtree_score_std)\n",
    "ax.bar(x + width, average_svc_scores, width, label='SVC', yerr=svc_score_std)\n",
    "\n",
    "# Add some text for labels, title and custom x-axis tick labels, etc.\n",
    "ax.set_ylabel('Scores')\n",
    "ax.set_title('Average test score over 10 folds')\n",
    "ax.set_xticks(x)\n",
    "ax.set_xticklabels(df_names, rotation='vertical')\n",
    "ax.legend()\n",
    "\n",
    "plt.show()"
   ]
  },
  {
   "cell_type": "markdown",
   "id": "greater-japanese",
   "metadata": {},
   "source": [
    "### 2.2 Aplicar Bagging a los clasificadores"
   ]
  },
  {
   "cell_type": "code",
   "execution_count": 77,
   "id": "interpreted-enforcement",
   "metadata": {},
   "outputs": [],
   "source": [
    "knn_bagging = ensemble.BaggingClassifier(neighbors.KNeighborsClassifier(), max_samples=.7)\n",
    "dtree_bagging = ensemble.BaggingClassifier(tree.DecisionTreeClassifier(), max_samples=.7)\n",
    "svc_bagging = ensemble.BaggingClassifier(svm.SVC(), max_samples=.7)"
   ]
  },
  {
   "cell_type": "code",
   "execution_count": 78,
   "id": "fossil-jonathan",
   "metadata": {},
   "outputs": [],
   "source": [
    "knn_bagging_scores = np.empty((len(dfs), 10))\n",
    "svc_bagging_scores = np.empty((len(dfs), 10))\n",
    "dtree_bagging_scores = np.empty((len(dfs), 10))\n",
    "\n",
    "\n",
    "for i in range(len(dfs)):\n",
    "    knn_bagging_scores[i] = model_selection.cross_val_score(knn_bagging, X[i], y[i], cv=10)\n",
    "    svc_bagging_scores[i] = model_selection.cross_val_score(svc_bagging, X[i], y[i], cv=10)\n",
    "    dtree_bagging_scores[i] = model_selection.cross_val_score(dtree_bagging ,X[i], y[i], cv=10)"
   ]
  },
  {
   "cell_type": "code",
   "execution_count": 79,
   "id": "tested-sheep",
   "metadata": {},
   "outputs": [
    {
     "data": {
      "image/png": "[encoded data removed]",
      "text/plain": [
       "<Figure size 720x576 with 1 Axes>"
      ]
     },
     "metadata": {
      "needs_background": "light"
     },
     "output_type": "display_data"
    }
   ],
   "source": [
    "average_knn_b_scores = [np.mean(x) for x in knn_bagging_scores]\n",
    "knn_b_score_std = [np.std(x) for x in knn_bagging_scores]\n",
    "\n",
    "average_dtree_b_scores = [np.mean(x) for x in dtree_bagging_scores]\n",
    "dtree_b_score_std = [np.std(x) for x in dtree_bagging_scores]\n",
    "\n",
    "average_svc_b_scores = [np.mean(x) for x in svc_bagging_scores]\n",
    "svc_b_score_std = [np.std(x) for x in svc_bagging_scores]\n",
    "\n",
    "x = np.arange(len(dfs)*2, step=2)  # the label locations\n",
    "width = 0.6  # the width of the bars\n",
    "\n",
    "fig, ax = plt.subplots(figsize=(10,8))\n",
    "\n",
    "ax.bar(x - width, average_knn_b_scores, width, label='KNN Bagging', yerr=knn_b_score_std)\n",
    "ax.bar(x, average_dtree_b_scores, width, label='DTree Bagging', yerr=dtree_b_score_std)\n",
    "ax.bar(x + width, average_svc_b_scores, width, label='SVC Bagging', yerr=svc_b_score_std)\n",
    "\n",
    "# Add some text for labels, title and custom x-axis tick labels, etc.\n",
    "ax.set_ylabel('Scores')\n",
    "ax.set_title('Average test score over 10 folds')\n",
    "ax.set_xticks(x)\n",
    "ax.set_xticklabels(df_names, rotation='vertical')\n",
    "ax.legend()\n",
    "\n",
    "plt.show()"
   ]
  },
  {
   "cell_type": "markdown",
   "id": "ready-energy",
   "metadata": {},
   "source": [
    "## 4. Métodos de comparación y evaluación de algoritmos"
   ]
  },
  {
   "cell_type": "markdown",
   "id": "given-chuck",
   "metadata": {},
   "source": [
    "Aplicaremos el test de Wilcoxon a los algoritmos KNN y SVM."
   ]
  },
  {
   "cell_type": "code",
   "execution_count": 315,
   "id": "skilled-conference",
   "metadata": {},
   "outputs": [],
   "source": [
    "winner = []\n",
    "difference = []\n",
    "\n",
    "for i in range(len(dfs)):\n",
    "    diff = average_knn_scores[i]-average_dtree_scores[i]\n",
    "    difference.append(\n",
    "        (abs(diff), i)\n",
    "    )\n",
    "    w = 1 if diff > 0 else -1\n",
    "    winner.append(w)\n",
    "    \n",
    "difference.sort(key=lambda x: x[0])\n",
    "\n",
    "r_plus = 0\n",
    "r_minus = 0\n",
    "for i, d in enumerate(difference):\n",
    "    if winner[d[1]] == 1:\n",
    "        r_plus += i+1\n",
    "    else:\n",
    "        r_minus += i+1\n"
   ]
  },
  {
   "cell_type": "markdown",
   "id": "wireless-ownership",
   "metadata": {},
   "source": [
    "Mirando en la  tabla del test de Wilcoxon, para $N=10$ datasets y $\\alpha=0.05$, el menor de $R^+$ y $R^-$ debe ser menor o igual que 8 para que la diferencia entre los clasificadores sea significativa."
   ]
  },
  {
   "cell_type": "code",
   "execution_count": 316,
   "id": "other-watson",
   "metadata": {},
   "outputs": [
    {
     "name": "stdout",
     "output_type": "stream",
     "text": [
      "21\n"
     ]
    }
   ],
   "source": [
    "print(min(r_plus, r_minus))"
   ]
  },
  {
   "cell_type": "markdown",
   "id": "simple-public",
   "metadata": {},
   "source": [
    "Viendo que no lo es, podemos afirmar que no hay una diferencia de rendimiento entre ellos."
   ]
  },
  {
   "cell_type": "markdown",
   "id": "valuable-ethernet",
   "metadata": {},
   "source": [
    "## 6. Aplicar GridSearch a un clasificador"
   ]
  },
  {
   "cell_type": "markdown",
   "id": "transparent-democrat",
   "metadata": {},
   "source": [
    "Lo haremos con KNN, variando el número de vecinos $K$, el peso de los votos entre uniforme y basado en distancia, y la métrica de distancia (euclídea o manhattan)"
   ]
  },
  {
   "cell_type": "code",
   "execution_count": 330,
   "id": "pediatric-broadcast",
   "metadata": {},
   "outputs": [],
   "source": [
    "knn_gc_scores_train = np.zeros(len(dfs))\n",
    "knn_gc_scores_test = np.zeros(len(dfs))\n",
    "\n",
    "for i in range(len(dfs)):\n",
    "        X_train, X_test, y_train, y_test = model_selection.train_test_split(X[i], y[i], test_size=.3)\n",
    "        sc = preprocessing.MinMaxScaler()\n",
    "        sc.fit_transform(X_train)\n",
    "        sc.transform(X_test)\n",
    "        \n",
    "        Ks = np.arange(start=3, stop=12, step=2)\n",
    "        weigths = ['uniform', 'distance']\n",
    "        ps = [1, 2]\n",
    "        \n",
    "        optimal = model_selection.GridSearchCV(\n",
    "            estimator=neighbors.KNeighborsClassifier(),\n",
    "            param_grid=dict(n_neighbors=Ks, weights=weigths, p=ps),\n",
    "            cv=3)\n",
    "        \n",
    "        optimal.fit(X_train, y_train)\n",
    "        \n",
    " \n",
    "        knn_gc_scores_train[i] = optimal.score(X_train, y_train)*100\n",
    "        knn_gc_scores_test[i] = optimal.score(X_test, y_test)*100\n",
    "\n"
   ]
  },
  {
   "cell_type": "code",
   "execution_count": 346,
   "id": "legal-theology",
   "metadata": {},
   "outputs": [
    {
     "name": "stdout",
     "output_type": "stream",
     "text": [
      "KNN with GridSearch Scores\n",
      "==========================\n",
      "Accents:\n",
      "\tTrain -> 100.00\n",
      "\tTest -> 83.84\n",
      "\t6.26 variation wrt to default parameters\n",
      "Avila:\n",
      "\tTrain -> 100.00\n",
      "\tTest -> 82.18\n",
      "\t11.36 variation wrt to default parameters\n",
      "Cancer:\n",
      "\tTrain -> 100.00\n",
      "\tTest -> 97.62\n",
      "\t1.14 variation wrt to default parameters\n",
      "Digits:\n",
      "\tTrain -> 100.00\n",
      "\tTest -> 99.05\n",
      "\t0.60 variation wrt to default parameters\n",
      "Fertility:\n",
      "\tTrain -> 88.57\n",
      "\tTest -> 83.33\n",
      "\t-2.00 variation wrt to default parameters\n",
      "Glass:\n",
      "\tTrain -> 100.00\n",
      "\tTest -> 64.62\n",
      "\t-2.15 variation wrt to default parameters\n",
      "Iris:\n",
      "\tTrain -> 100.00\n",
      "\tTest -> 93.33\n",
      "\t-2.67 variation wrt to default parameters\n",
      "Vertebral Column:\n",
      "\tTrain -> 100.00\n",
      "\tTest -> 89.25\n",
      "\t3.87 variation wrt to default parameters\n",
      "Phishing:\n",
      "\tTrain -> 97.36\n",
      "\tTest -> 87.93\n",
      "\t2.22 variation wrt to default parameters\n",
      "Wine:\n",
      "\tTrain -> 100.00\n",
      "\tTest -> 62.29\n",
      "\t12.96 variation wrt to default parameters\n",
      "\n",
      "Average variation = 3.16\n"
     ]
    }
   ],
   "source": [
    "print('KNN with GridSearch Scores')\n",
    "print('==========================')\n",
    "for i in range(len(dfs)):\n",
    "    print(f'{df_names[i]}:')\n",
    "    print(f'\\tTrain -> {knn_gc_scores_train[i]:.2f}')\n",
    "    print(f'\\tTest -> {knn_gc_scores_test[i]:.2f}')\n",
    "    print(f'\\t{knn_gc_scores_test[i] - average_knn_scores[i]:.2f} variation wrt to default parameters')\n",
    "print(f'\\nAverage variation = {np.mean(knn_gc_scores_test - average_knn_scores):.2f}')"
   ]
  },
  {
   "cell_type": "markdown",
   "id": "outstanding-granny",
   "metadata": {},
   "source": [
    "Vemos que en general, los resultados son mucho mejores, con un incremento medio del CCR de un 3% frente a los parámetros por defecto, que llega hasta el 13% en algunos casos."
   ]
  }
 ],
 "metadata": {
  "kernelspec": {
   "display_name": "Python 3",
   "language": "python",
   "name": "python3"
  },
  "language_info": {
   "codemirror_mode": {
    "name": "ipython",
    "version": 3
   },
   "file_extension": ".py",
   "mimetype": "text/x-python",
   "name": "python",
   "nbconvert_exporter": "python",
   "pygments_lexer": "ipython3",
   "version": "3.8.6"
  }
 },
 "nbformat": 4,
 "nbformat_minor": 5
}
