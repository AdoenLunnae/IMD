{
 "cells": [
  {
   "cell_type": "markdown",
   "metadata": {},
   "source": [
    "# Práctica 3: Clasificación con scikit-learn"
   ]
  },
  {
   "cell_type": "markdown",
   "metadata": {},
   "source": [
    "## Importar módulos"
   ]
  },
  {
   "cell_type": "code",
   "execution_count": 1,
   "metadata": {},
   "outputs": [],
   "source": [
    "%matplotlib inline\n",
    "\n",
    "import pandas as pd\n",
    "import numpy as np\n",
    "import matplotlib\n",
    "import matplotlib.pyplot as plt\n",
    "\n",
    "import sklearn\n",
    "from sklearn import preprocessing, model_selection, neighbors, svm, tree, ensemble"
   ]
  },
  {
   "cell_type": "markdown",
   "metadata": {},
   "source": [
    "## Seleccionar datasets"
   ]
  },
  {
   "cell_type": "markdown",
   "metadata": {},
   "source": [
    "Los conjuntos de datos seleccionados se encuentran en el directorio `datasets`."
   ]
  },
  {
   "cell_type": "code",
   "execution_count": 2,
   "metadata": {},
   "outputs": [],
   "source": [
    "accent_df = pd.read_csv('datasets/accent.csv', header=0)\n",
    "avila_df = pd.read_csv('datasets/avila.csv', header=0)\n",
    "cancer_df = pd.read_csv('datasets/cancer.csv', header=0, na_values='?')\n",
    "digits_df = pd.read_csv('datasets/digits.csv', header=None)\n",
    "fertility_df = pd.read_csv('datasets/fertility.csv', header=0)\n",
    "glass_df = pd.read_csv('datasets/glass.csv', header=0)\n",
    "iris_df = pd.read_csv('datasets/iris.csv', header=None)\n",
    "column_df = pd.read_csv('datasets/column.csv', header=0)\n",
    "phishing_df = pd.read_csv('datasets/phishing.csv', header=None)\n",
    "wine_df = pd.read_csv('datasets/wine.csv', header=0)"
   ]
  },
  {
   "cell_type": "markdown",
   "metadata": {},
   "source": [
    "### Preprocesamiento\n",
    "Aplicamos el mismo que en la práctica anterior, además de eliminar de Avila y Glass las clases con menos de 10 instancias para poder realizar 10-fold estratificado"
   ]
  },
  {
   "cell_type": "code",
   "execution_count": 3,
   "metadata": {},
   "outputs": [],
   "source": [
    "accent_df = accent_df[accent_df.columns.to_list()[1:]+[accent_df.columns.to_list()[0]]]"
   ]
  },
  {
   "cell_type": "code",
   "execution_count": 4,
   "metadata": {
    "scrolled": false
   },
   "outputs": [],
   "source": [
    "cancer_df = cancer_df.drop('id', axis=1)"
   ]
  },
  {
   "cell_type": "code",
   "execution_count": 5,
   "metadata": {},
   "outputs": [],
   "source": [
    "cancer_df.bare_nuclei = cancer_df.bare_nuclei.fillna(np.mean(cancer_df.bare_nuclei)).astype('int')"
   ]
  },
  {
   "cell_type": "code",
   "execution_count": 6,
   "metadata": {},
   "outputs": [],
   "source": [
    "avila_df = avila_df[avila_df['class'] != 'B']\n",
    "glass_df = glass_df[glass_df['class'] != 6]"
   ]
  },
  {
   "cell_type": "code",
   "execution_count": 7,
   "metadata": {},
   "outputs": [],
   "source": [
    "dfs = [accent_df, avila_df, cancer_df, digits_df, fertility_df, glass_df, iris_df, column_df, phishing_df, wine_df]\n",
    "df_names = ['Accents', 'Avila', 'Cancer', 'Digits', 'Fertility', 'Glass', 'Iris', 'Vertebral Column', 'Phishing', 'Wine'] "
   ]
  },
  {
   "cell_type": "code",
   "execution_count": 8,
   "metadata": {},
   "outputs": [],
   "source": [
    "for df in dfs:\n",
    "    df.iloc[:,-1] = df.iloc[:,-1].astype('category')"
   ]
  },
  {
   "cell_type": "code",
   "execution_count": 9,
   "metadata": {
    "scrolled": true
   },
   "outputs": [],
   "source": [
    "X = [df.iloc[:, :-1].values for df in dfs]\n",
    "y = [df.iloc[:, -1].values for df in dfs]"
   ]
  },
  {
   "cell_type": "markdown",
   "metadata": {},
   "source": [
    "## 1. Seleccionar clasificadores"
   ]
  },
  {
   "cell_type": "markdown",
   "metadata": {},
   "source": [
    "Usaremos los clasificadores siguientes:\n",
    "- `sklearn.neighbors.KNeighborsClassifier`\n",
    "- `sklearn.tree.DecisionTreeClassifier`\n",
    "- `sklearn.svm.SVC`"
   ]
  },
  {
   "cell_type": "markdown",
   "metadata": {},
   "source": [
    "## 2. Comparar método base con _ensemble_"
   ]
  },
  {
   "cell_type": "markdown",
   "metadata": {},
   "source": [
    "### 2.1 Entrenar y aplicar el método base"
   ]
  },
  {
   "cell_type": "code",
   "execution_count": 23,
   "metadata": {
    "scrolled": true
   },
   "outputs": [
    {
     "name": "stdout",
     "output_type": "stream",
     "text": [
      "[==========]\r"
     ]
    }
   ],
   "source": [
    "knn_scores = np.empty((len(dfs), 10))\n",
    "svc_scores = np.empty((len(dfs), 10))\n",
    "dtree_scores = np.empty((len(dfs), 10))\n",
    "from time import sleep\n",
    "print('[' + len(dfs)*'.'+']', end='\\r', flush=True)\n",
    "for i in range(len(dfs)):\n",
    "    print('['+'='*(i)+'>'+(len(dfs)-i-1)*'.'+']', end='\\r', flush=True)\n",
    "    \n",
    "    knn_scores[i] = model_selection.cross_val_score(neighbors.KNeighborsClassifier(), X[i], y[i], cv=10)\n",
    "    svc_scores[i] = model_selection.cross_val_score(svm.SVC(), X[i], y[i], cv=10)\n",
    "    dtree_scores[i] = model_selection.cross_val_score(tree.DecisionTreeClassifier() ,X[i], y[i], cv=10)\n",
    "\n",
    "    print('['+'='*(i+1)+(len(dfs)-i-1)*'.'+']', end='\\r', flush=True)\n"
   ]
  },
  {
   "cell_type": "code",
   "execution_count": 37,
   "metadata": {},
   "outputs": [
    {
     "ename": "SyntaxError",
     "evalue": "invalid syntax (<ipython-input-37-c8faddf488e9>, line 7)",
     "output_type": "error",
     "traceback": [
      "\u001b[0;36m  File \u001b[0;32m\"<ipython-input-37-c8faddf488e9>\"\u001b[0;36m, line \u001b[0;32m7\u001b[0m\n\u001b[0;31m    average_svc_scores = [np.mean(x) for x in svc_scores])\u001b[0m\n\u001b[0m                                                         ^\u001b[0m\n\u001b[0;31mSyntaxError\u001b[0m\u001b[0;31m:\u001b[0m invalid syntax\n"
     ]
    }
   ],
   "source": [
    "average_knn_scores = np.array([np.mean(x) for x in knn_scores])\n",
    "knn_score_std = np.array([np.std(x) for x in knn_scores])\n",
    "\n",
    "average_dtree_scores = np.array([np.mean(x) for x in dtree_scores])\n",
    "dtree_score_std = np.array([np.std(x) for x in dtree_scores])\n",
    "\n",
    "average_svc_scores = [np.mean(x) for x in svc_scores])\n",
    "svc_score_std = np.array([np.std(x) for x in svc_scores])"
   ]
  },
  {
   "cell_type": "code",
   "execution_count": 38,
   "metadata": {},
   "outputs": [
    {
     "data": {
      "image/png": "[encoded data removed]",
      "text/plain": [
       "<Figure size 720x576 with 1 Axes>"
      ]
     },
     "metadata": {
      "needs_background": "light"
     },
     "output_type": "display_data"
    }
   ],
   "source": [
    "x = np.arange(len(dfs)*2, step=2)  # the label locations\n",
    "width = 0.6  # the width of the bars\n",
    "\n",
    "fig, ax = plt.subplots(figsize=(10,8))\n",
    "\n",
    "ax.bar(x - width, average_knn_scores, width, label='KNN', yerr=knn_score_std)\n",
    "ax.bar(x, average_dtree_scores, width, label='DTree', yerr=dtree_score_std)\n",
    "ax.bar(x + width, average_svc_scores, width, label='SVC', yerr=svc_score_std)\n",
    "\n",
    "# Add some text for labels, title and custom x-axis tick labels, etc.\n",
    "ax.set_ylabel('Scores')\n",
    "ax.set_title('Average test score over 10 folds')\n",
    "ax.set_xticks(x)\n",
    "ax.set_xticklabels(df_names, rotation='vertical')\n",
    "ax.legend()\n",
    "\n",
    "plt.show()"
   ]
  },
  {
   "cell_type": "markdown",
   "metadata": {},
   "source": [
    "### 2.2 Aplicar Bagging a los clasificadores"
   ]
  },
  {
   "cell_type": "markdown",
   "metadata": {},
   "source": [
    "Usamos un 70% de los patrones en cada estimador del _ensemble_ para que sean distintos."
   ]
  },
  {
   "cell_type": "code",
   "execution_count": 33,
   "metadata": {},
   "outputs": [],
   "source": [
    "knn_bagging = ensemble.BaggingClassifier(neighbors.KNeighborsClassifier(), max_samples=.7, n_estimators=5, random_state=0)\n",
    "dtree_bagging = ensemble.BaggingClassifier(tree.DecisionTreeClassifier(), max_samples=.7, n_estimators=5, random_state=0)\n",
    "svc_bagging = ensemble.BaggingClassifier(svm.SVC(), max_samples=.7, n_estimators=5, random_state=0)"
   ]
  },
  {
   "cell_type": "code",
   "execution_count": 34,
   "metadata": {},
   "outputs": [
    {
     "name": "stdout",
     "output_type": "stream",
     "text": [
      "[==========]\r"
     ]
    }
   ],
   "source": [
    "knn_bagging_scores = np.empty((len(dfs), 10))\n",
    "svc_bagging_scores = np.empty((len(dfs), 10))\n",
    "dtree_bagging_scores = np.empty((len(dfs), 10))\n",
    "\n",
    "\n",
    "for i in range(len(dfs)):\n",
    "    print('['+'='*(i)+'>'+(len(dfs)-i-1)*'.'+']', end='\\r', flush=True)\n",
    "    knn_bagging_scores[i] = model_selection.cross_val_score(knn_bagging, X[i], y[i], cv=10)\n",
    "    svc_bagging_scores[i] = model_selection.cross_val_score(svc_bagging, X[i], y[i], cv=10)\n",
    "    dtree_bagging_scores[i] = model_selection.cross_val_score(dtree_bagging ,X[i], y[i], cv=10)\n",
    "    print('['+'='*(i+1)+(len(dfs)-i-1)*'.'+']', end='\\r', flush=True)"
   ]
  },
  {
   "cell_type": "code",
   "execution_count": 39,
   "metadata": {},
   "outputs": [
    {
     "data": {
      "image/png": "[encoded data removed]",
      "text/plain": [
       "<Figure size 720x576 with 1 Axes>"
      ]
     },
     "metadata": {
      "needs_background": "light"
     },
     "output_type": "display_data"
    }
   ],
   "source": [
    "average_knn_b_scores = np.array([np.mean(x) for x in knn_bagging_scores])\n",
    "knn_b_score_std = np.array([np.std(x) for x in knn_bagging_scores])\n",
    "\n",
    "average_dtree_b_scores = np.array([np.mean(x) for x in dtree_bagging_scores])\n",
    "dtree_b_score_std = np.array([np.std(x) for x in dtree_bagging_scores])\n",
    "\n",
    "average_svc_b_scores = np.array([np.mean(x) for x in svc_bagging_scores])\n",
    "svc_b_score_std = np.array([np.std(x) for x in svc_bagging_scores])\n",
    "\n",
    "x = np.arange(len(dfs)*2, step=2)  # the label locations\n",
    "width = 0.6  # the width of the bars\n",
    "\n",
    "fig, ax = plt.subplots(figsize=(10,8))\n",
    "\n",
    "ax.bar(x - width, average_knn_b_scores, width, label='KNN Bagging', yerr=knn_b_score_std)\n",
    "ax.bar(x, average_dtree_b_scores, width, label='DTree Bagging', yerr=dtree_b_score_std)\n",
    "ax.bar(x + width, average_svc_b_scores, width, label='SVC Bagging', yerr=svc_b_score_std)\n",
    "\n",
    "# Add some text for labels, title and custom x-axis tick labels, etc.\n",
    "ax.set_ylabel('Scores')\n",
    "ax.set_title('Average test score over 10 folds')\n",
    "ax.set_xticks(x)\n",
    "ax.set_xticklabels(df_names, rotation='vertical')\n",
    "ax.legend()\n",
    "\n",
    "plt.show()"
   ]
  },
  {
   "cell_type": "code",
   "execution_count": 48,
   "metadata": {},
   "outputs": [],
   "source": [
    "knn_diff = average_knn_b_scores - average_knn_scores\n",
    "svc_diff = average_svc_b_scores - average_svc_scores\n",
    "dtree_diff = average_dtree_b_scores - average_dtree_scores"
   ]
  },
  {
   "cell_type": "code",
   "execution_count": 50,
   "metadata": {},
   "outputs": [
    {
     "name": "stdout",
     "output_type": "stream",
     "text": [
      "Average change in accuracy for each method:\n",
      "\t KNN: -0.0075 (with std. 0.0174)\n",
      "\t SVC: -0.0131 (with std. 0.0159)\n",
      "\t DTree: 0.0313 (with std. 0.0407)\n"
     ]
    }
   ],
   "source": [
    "print('Average change in accuracy for each method:')\n",
    "print(f'\\t KNN: {np.mean(knn_diff):.4f} (with std. {np.std(knn_diff):.4f})')\n",
    "print(f'\\t SVC: {np.mean(svc_diff):.4f} (with std. {np.std(svc_diff):.4f})')\n",
    "print(f'\\t DTree: {np.mean(dtree_diff):.4f} (with std. {np.std(dtree_diff):.4f})')\n"
   ]
  },
  {
   "cell_type": "code",
   "execution_count": 53,
   "metadata": {},
   "outputs": [
    {
     "data": {
      "image/png": "[encoded data removed]",
      "text/plain": [
       "<Figure size 720x576 with 1 Axes>"
      ]
     },
     "metadata": {
      "needs_background": "light"
     },
     "output_type": "display_data"
    }
   ],
   "source": [
    "x = np.arange(len(dfs)*2, step=2)  # the label locations\n",
    "width = 0.6  # the width of the bars\n",
    "\n",
    "fig, ax = plt.subplots(figsize=(10,8))\n",
    "\n",
    "ax.bar(x - width, knn_diff, width, label='KNN Difference')\n",
    "ax.bar(x, dtree_diff, width, label='DTree Difference')\n",
    "ax.bar(x + width, svc_diff, width, label='SVC Difference')\n",
    "\n",
    "# Add some text for labels, title and custom x-axis tick labels, etc.\n",
    "ax.grid()\n",
    "ax.set_ylabel('Scores')\n",
    "ax.set_title('Difference in performance when applying Bagging')\n",
    "ax.set_xticks(x)\n",
    "ax.set_xticklabels(df_names, rotation='vertical')\n",
    "ax.legend()\n",
    "\n",
    "plt.show()"
   ]
  },
  {
   "cell_type": "markdown",
   "metadata": {},
   "source": [
    "### 2.3 Aplicar algoritmos de _boosting_"
   ]
  },
  {
   "cell_type": "markdown",
   "metadata": {},
   "source": [
    "Usaremos AdaBoost y GradientTree, implementados en scikit."
   ]
  },
  {
   "cell_type": "code",
   "execution_count": 54,
   "metadata": {},
   "outputs": [],
   "source": [
    "ada = ensemble.AdaBoostClassifier(random_state=0)\n",
    "gtree = ensemble.GradientBoostingClassifier(random_state=0)"
   ]
  },
  {
   "cell_type": "code",
   "execution_count": 55,
   "metadata": {},
   "outputs": [
    {
     "name": "stdout",
     "output_type": "stream",
     "text": [
      "[==========]\r"
     ]
    }
   ],
   "source": [
    "ada_scores = np.empty((len(dfs), 10))\n",
    "gradient_scores = np.empty((len(dfs), 10))\n",
    "\n",
    "\n",
    "\n",
    "for i in range(len(dfs)):\n",
    "    print('['+'='*(i)+'>'+(len(dfs)-i-1)*'.'+']', end='\\r', flush=True)\n",
    "    ada_scores[i] = model_selection.cross_val_score(ada, X[i], y[i], cv=10)\n",
    "    gradient_scores[i] = model_selection.cross_val_score(gtree, X[i], y[i], cv=10)\n",
    "    print('['+'='*(i+1)+(len(dfs)-i-1)*'.'+']', end='\\r', flush=True)"
   ]
  },
  {
   "cell_type": "code",
   "execution_count": 60,
   "metadata": {},
   "outputs": [
    {
     "data": {
      "image/png": "[encoded data removed]",
      "text/plain": [
       "<Figure size 720x576 with 1 Axes>"
      ]
     },
     "metadata": {
      "needs_background": "light"
     },
     "output_type": "display_data"
    }
   ],
   "source": [
    "average_ada_scores = np.array([np.mean(x) for x in ada_scores])\n",
    "ada_score_std = np.array([np.std(x) for x in ada_scores])\n",
    "\n",
    "average_gtree_scores = np.array([np.mean(x) for x in gradient_scores])\n",
    "gtree_score_std = np.array([np.std(x) for x in gradient_scores])\n",
    "\n",
    "\n",
    "x = np.arange(len(dfs))  # the label locations\n",
    "width = 0.4  # the width of the bars\n",
    "\n",
    "fig, ax = plt.subplots(figsize=(10,8))\n",
    "\n",
    "ax.bar(x - width/2, average_knn_b_scores, width, label='KNN Bagging', yerr=knn_b_score_std)\n",
    "ax.bar(x + width/2, average_dtree_b_scores, width, label='DTree Bagging', yerr=dtree_b_score_std)\n",
    "\n",
    "\n",
    "# Add some text for labels, title and custom x-axis tick labels, etc.\n",
    "ax.set_ylabel('Scores')\n",
    "ax.set_title('Average test score over 10 folds')\n",
    "ax.set_xticks(x)\n",
    "ax.set_xticklabels(df_names, rotation='vertical')\n",
    "ax.legend()\n",
    "\n",
    "plt.show()"
   ]
  },
  {
   "cell_type": "markdown",
   "metadata": {},
   "source": [
    "## 3. Conclusiones"
   ]
  },
  {
   "cell_type": "markdown",
   "metadata": {},
   "source": [
    "Podemos ver cómo el _ensemble_ proporciona resultados positivos cuando el clasificador base es Decision Tree. Esto se debe a que KNN y SVM son métodos muy estables, en los que cada modelo del ensemble proporciona resultados muy similares."
   ]
  }
 ],
 "metadata": {
  "kernelspec": {
   "display_name": "Python 3",
   "language": "python",
   "name": "python3"
  },
  "language_info": {
   "codemirror_mode": {
    "name": "ipython",
    "version": 3
   },
   "file_extension": ".py",
   "mimetype": "text/x-python",
   "name": "python",
   "nbconvert_exporter": "python",
   "pygments_lexer": "ipython3",
   "version": "3.6.9"
  }
 },
 "nbformat": 4,
 "nbformat_minor": 5
}
