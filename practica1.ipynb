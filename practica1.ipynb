{
 "cells": [
  {
   "cell_type": "markdown",
   "id": "swedish-swedish",
   "metadata": {},
   "source": [
    "# Importar módulos necesarios"
   ]
  },
  {
   "cell_type": "code",
   "execution_count": 2,
   "id": "tribal-trigger",
   "metadata": {},
   "outputs": [],
   "source": [
    "import numpy as np"
   ]
  },
  {
   "cell_type": "markdown",
   "id": "electronic-upper",
   "metadata": {},
   "source": [
    "# 1 Aplicar la ley D'Hondt"
   ]
  },
  {
   "cell_type": "markdown",
   "id": "signed-rover",
   "metadata": {},
   "source": [
    "## Implementación"
   ]
  },
  {
   "cell_type": "code",
   "execution_count": 69,
   "id": "right-ethnic",
   "metadata": {},
   "outputs": [],
   "source": [
    "def ley_dhondt(votes: np.ndarray, n_seats: int):\n",
    "    \"\"\"\n",
    "    Dado un array de votos(unidimensional, cada valor son los votos de un partido),\n",
    "    y el número de escaños, aplica La ley D'Hondt y devuelve otro vector con el\n",
    "    número de escaños de cada partido. El proceso de adjudicación queda documentado\n",
    "    en las matrices seats_per_iter(escaños adjudicados) y quotient_per_iter(cociente\n",
    "    tras adjudicar i escaños).\n",
    "    \"\"\"\n",
    "    seats_per_iter = np.zeros((n_seats, votes.shape[0]), dtype=int)\n",
    "    quotient_per_iter = np.zeros((n_seats, votes.shape[0]))\n",
    "    \n",
    "    quotient_per_iter[0,] = votes\n",
    "    \n",
    "    for i in range(n_seats):\n",
    "        quotient_per_iter[i] = votes/(seats_per_iter[i-1]+1)\n",
    "        winner = np.argmax(quotient_per_iter[i])\n",
    "        seats_per_iter[i] = seats_per_iter[i-1]\n",
    "        seats_per_iter[i, winner] += 1\n",
    "    return seats_per_iter[-1]"
   ]
  },
  {
   "cell_type": "markdown",
   "id": "waiting-science",
   "metadata": {},
   "source": [
    "## Desde archivo"
   ]
  },
  {
   "cell_type": "code",
   "execution_count": 75,
   "id": "cultural-submission",
   "metadata": {},
   "outputs": [],
   "source": [
    "def ley_dhondt_from_file(filename: str):\n",
    "    \"\"\"\n",
    "    Dado un nombre de archivo, lee el número de escaños y los votos y devuelve los\n",
    "    escaños de cada partido. La primera línea debe ser el número de escaños, después\n",
    "    irán los votos de cada partido en una línea\n",
    "    \"\"\"\n",
    "    with open(filename, 'r') as file:\n",
    "        seats = int(file.readline())\n",
    "        votes = [int(line) for line in file]\n",
    "    print(f\"Distributing {seats} seats between {len(votes)} parties with votes:\")\n",
    "    for i,v in enumerate(votes):\n",
    "        print(f\"\\t Party {i+1}: {v} votes\")\n",
    "    \n",
    "    result = ley_dhondt(np.asarray(votes), seats)\n",
    "    print(\"\\nResult of the election:\")\n",
    "    for party, seats in enumerate(result):\n",
    "        print(f\"\\t Party {party+1}: {seats} seats\")"
   ]
  },
  {
   "cell_type": "code",
   "execution_count": 76,
   "id": "consecutive-advertiser",
   "metadata": {},
   "outputs": [
    {
     "name": "stdout",
     "output_type": "stream",
     "text": [
      "Distributing 7 seats between 5 parties with votes:\n",
      "\t Party 1: 340000 votes\n",
      "\t Party 2: 280000 votes\n",
      "\t Party 3: 160000 votes\n",
      "\t Party 4: 60000 votes\n",
      "\t Party 5: 15000 votes\n",
      "\n",
      "Result of the election:\n",
      "\t Party 1: 3 seats\n",
      "\t Party 2: 3 seats\n",
      "\t Party 3: 1 seats\n",
      "\t Party 4: 0 seats\n",
      "\t Party 5: 0 seats\n"
     ]
    }
   ],
   "source": [
    "ley_dhondt_from_file('votes.txt')"
   ]
  },
  {
   "cell_type": "markdown",
   "id": "respiratory-might",
   "metadata": {},
   "source": [
    "## Por consola"
   ]
  },
  {
   "cell_type": "code",
   "execution_count": 81,
   "id": "tribal-harvard",
   "metadata": {},
   "outputs": [],
   "source": [
    "def ley_dhondt_from_console():\n",
    "    \"\"\"\n",
    "    Reads the number of seats and votes from user input and returns\n",
    "    the result of the election\n",
    "    \"\"\"\n",
    "    seats = int(input('Number of seats: '))\n",
    "    parties = int(input('Number of parties: '))\n",
    "    votes = []\n",
    "    for party in range(parties):\n",
    "        votes.append(input(f'Votes of party {party+1}: '))\n",
    "        \n",
    "    print(f\"Distributing {seats} seats between {len(votes)} parties with votes:\")\n",
    "    for i,v in enumerate(votes):\n",
    "        print(f\"\\t Party {i+1}: {v} votes\")\n",
    "    \n",
    "    result = ley_dhondt(np.asarray(votes, dtype=float), seats)\n",
    "    print(\"\\nResult of the election:\")\n",
    "    for party, seats in enumerate(result):\n",
    "        print(f\"\\t Party {party+1}: {seats} seats\")"
   ]
  },
  {
   "cell_type": "code",
   "execution_count": 83,
   "id": "female-router",
   "metadata": {},
   "outputs": [
    {
     "name": "stdout",
     "output_type": "stream",
     "text": [
      "Number of seats: 3\n",
      "Number of parties: 2\n",
      "Votes of party 1: 10000\n",
      "Votes of party 2: 5001\n",
      "Distributing 3 seats between 2 parties with votes:\n",
      "\t Party 1: 10000 votes\n",
      "\t Party 2: 5001 votes\n",
      "\n",
      "Result of the election:\n",
      "\t Party 1: 2 seats\n",
      "\t Party 2: 1 seats\n"
     ]
    }
   ],
   "source": [
    "ley_dhondt_from_console()"
   ]
  },
  {
   "cell_type": "markdown",
   "id": "lasting-grenada",
   "metadata": {},
   "source": [
    "# 2 Operaciones con matriz de reales aleatoria"
   ]
  },
  {
   "cell_type": "markdown",
   "id": "abroad-present",
   "metadata": {},
   "source": [
    "## Generar matriz aleatoria"
   ]
  },
  {
   "cell_type": "code",
   "execution_count": 136,
   "id": "concerned-retrieval",
   "metadata": {},
   "outputs": [],
   "source": [
    "def random_float_matrix():\n",
    "    matrix = np.random.rand(\n",
    "        int(input('Number of rows: ')),\n",
    "        int(input('Number of columns: ')),\n",
    "    )\n",
    "    return(matrix)\n",
    "    "
   ]
  },
  {
   "cell_type": "code",
   "execution_count": 137,
   "id": "boxed-living",
   "metadata": {},
   "outputs": [
    {
     "name": "stdout",
     "output_type": "stream",
     "text": [
      "Number of rows: 3\n",
      "Number of columns: 5\n",
      "[[0.3651667  0.31996508 0.89078706 0.22339432 0.41578467]\n",
      " [0.64813605 0.16740822 0.5889485  0.4594975  0.90067532]\n",
      " [0.73768761 0.45511015 0.07814468 0.74133254 0.73704595]]\n"
     ]
    }
   ],
   "source": [
    "matrix = random_float_matrix()\n",
    "print(matrix)"
   ]
  },
  {
   "cell_type": "markdown",
   "id": "sexual-spirituality",
   "metadata": {},
   "source": [
    "## 2.1 Máximo y mínimo"
   ]
  },
  {
   "cell_type": "code",
   "execution_count": 138,
   "id": "cooperative-fault",
   "metadata": {},
   "outputs": [
    {
     "name": "stdout",
     "output_type": "stream",
     "text": [
      "Maximum value found at position (1,4): 0.9006753150373428\n",
      "Minimum value found at position (2,2): 0.07814467764725264\n"
     ]
    }
   ],
   "source": [
    "max_row, max_col = np.unravel_index(np.argmax(matrix), matrix.shape)\n",
    "max_value = matrix[max_row, max_col]\n",
    "\n",
    "min_row, min_col = np.unravel_index(np.argmin(matrix), matrix.shape)\n",
    "min_value = matrix[min_row, min_col]\n",
    "\n",
    "\n",
    "print(f\"Maximum value found at position ({max_row},{max_col}): {max_value}\")\n",
    "print(f\"Minimum value found at position ({min_row},{min_col}): {min_value}\")"
   ]
  },
  {
   "cell_type": "markdown",
   "id": "swedish-marketing",
   "metadata": {},
   "source": [
    "## 2.2 Ángulo de dos vectores"
   ]
  },
  {
   "cell_type": "code",
   "execution_count": 169,
   "id": "animal-lindsay",
   "metadata": {},
   "outputs": [
    {
     "name": "stdout",
     "output_type": "stream",
     "text": [
      "Size of the vectors: 3\n",
      "Element 0 of vector 1: 1\n",
      "Element 1 of vector 1: 3\n",
      "Element 2 of vector 1: 1\n",
      "Element 0 of vector 2: 4\n",
      "Element 1 of vector 2: 1\n",
      "Element 2 of vector 2: 3\n",
      "The angle betwenn vectors [1. 3. 1.] and [4. 1. 3.] is of 53.749805º (0.938111 radians)\n"
     ]
    }
   ],
   "source": [
    "size = int(input(\"Size of the vectors: \"))\n",
    "\n",
    "v1, v2 = np.empty((size,), dtype=float), np.empty((size,), dtype=float)\n",
    "\n",
    "for i in range(size):\n",
    "    v1[i] = float(input(f'Element {i} of vector 1: '))\n",
    "\n",
    "for i in range(size):\n",
    "    v2[i] = float(input(f'Element {i} of vector 2: '))\n",
    "    \n",
    "scalar_prod = np.dot(v1, v2)\n",
    "\n",
    "angle = np.arccos(scalar_prod/(np.linalg.norm(v1)*np.linalg.norm(v2)))\n",
    "\n",
    "print(f'The angle betwenn vectors {v1} and {v2} is of {angle*180/np.pi:4f}º ({angle:4f} radians)')"
   ]
  },
  {
   "cell_type": "markdown",
   "id": "written-ferry",
   "metadata": {},
   "source": [
    "# 3 Operaciones con matriz de reales por teclado"
   ]
  },
  {
   "cell_type": "markdown",
   "id": "naughty-gateway",
   "metadata": {},
   "source": [
    "## Generar la matriz"
   ]
  },
  {
   "cell_type": "code",
   "execution_count": 142,
   "id": "analyzed-promise",
   "metadata": {},
   "outputs": [],
   "source": [
    "def read_float_matrix():\n",
    "    matrix = np.empty(\n",
    "        (int(input('Number of rows: ')), int(input('Number of columns: '))),\n",
    "        dtype=float\n",
    "    )\n",
    "    \n",
    "    for row in range(matrix.shape[0]):\n",
    "        for col in range(matrix.shape[1]):\n",
    "            matrix[row, col] = float(input(f'Element for position ({row},{col}): '))\n",
    "    \n",
    "    return(matrix)\n",
    "    "
   ]
  },
  {
   "cell_type": "code",
   "execution_count": 143,
   "id": "overhead-press",
   "metadata": {},
   "outputs": [
    {
     "name": "stdout",
     "output_type": "stream",
     "text": [
      "Number of rows: 3\n",
      "Number of columns: 3\n",
      "Element for position (0,0): 12\n",
      "Element for position (0,1): -21\n",
      "Element for position (0,2): 32.4\n",
      "Element for position (1,0): 4.232\n",
      "Element for position (1,1): -2.34\n",
      "Element for position (1,2): 4.242\n",
      "Element for position (2,0): 10\n",
      "Element for position (2,1): -12\n",
      "Element for position (2,2): 6\n",
      "\n",
      "[[ 12.    -21.     32.4  ]\n",
      " [  4.232  -2.34    4.242]\n",
      " [ 10.    -12.      6.   ]]\n"
     ]
    }
   ],
   "source": [
    "user_matrix = read_float_matrix()\n",
    "print()\n",
    "print(user_matrix)"
   ]
  },
  {
   "cell_type": "markdown",
   "id": "bearing-boring",
   "metadata": {},
   "source": [
    "## 3.1 Máximo por filas y por columnas"
   ]
  },
  {
   "cell_type": "code",
   "execution_count": 159,
   "id": "alone-circular",
   "metadata": {},
   "outputs": [
    {
     "name": "stdout",
     "output_type": "stream",
     "text": [
      "Maximum of row 0 ([ 12.  -21.   32.4]):  32.4\n",
      "Maximum of row 1 ([ 4.232 -2.34   4.242]):  4.242\n",
      "Maximum of row 2 ([ 10. -12.   6.]):  10.0\n",
      "\n",
      "Maximum of column 0 ([12.     4.232 10.   ]):  12.0\n",
      "Maximum of column 1 ([-21.    -2.34 -12.  ]):  -2.34\n",
      "Maximum of column 2 ([32.4    4.242  6.   ]):  32.4\n"
     ]
    }
   ],
   "source": [
    "row_max = np.argmax(user_matrix, axis=1)\n",
    "\n",
    "col_max = np.argmax(user_matrix, axis=0)\n",
    "\n",
    "for i, max_index in enumerate(row_max):\n",
    "    print(f'Maximum of row {i} ({user_matrix[i,:]}):  {user_matrix[i, max_index]}')\n",
    "\n",
    "print()\n",
    "for i, max_index in enumerate(col_max):\n",
    "    print(f'Maximum of column {i} ({user_matrix[:,i]}):  {user_matrix[max_index, i]}')\n"
   ]
  },
  {
   "cell_type": "markdown",
   "id": "informative-antigua",
   "metadata": {},
   "source": [
    "## 3.2 Determinante"
   ]
  },
  {
   "cell_type": "code",
   "execution_count": 155,
   "id": "prepared-ministry",
   "metadata": {},
   "outputs": [
    {
     "name": "stdout",
     "output_type": "stream",
     "text": [
      "Determinant of the matrix: -802.4616\n"
     ]
    }
   ],
   "source": [
    "def det(matrix):\n",
    "    if matrix.shape[0] == matrix.shape[1]:\n",
    "        determinant = np.linalg.det(matrix)\n",
    "\n",
    "        print(f\"Determinant of the matrix: {determinant}\")\n",
    "    else:\n",
    "        print(\"Matrix is not square\")\n",
    "\n",
    "det(user_matrix)"
   ]
  },
  {
   "cell_type": "markdown",
   "id": "enclosed-cosmetic",
   "metadata": {},
   "source": [
    "## 3.3 Rango"
   ]
  },
  {
   "cell_type": "code",
   "execution_count": 160,
   "id": "italian-shuttle",
   "metadata": {},
   "outputs": [
    {
     "name": "stdout",
     "output_type": "stream",
     "text": [
      "Rank of the matrix: 3\n"
     ]
    }
   ],
   "source": [
    "rank = np.linalg.matrix_rank(user_matrix)\n",
    "\n",
    "print(f\"Rank of the matrix: {rank}\")"
   ]
  },
  {
   "cell_type": "markdown",
   "id": "foreign-single",
   "metadata": {},
   "source": [
    "# 4 Operaciones con matriz de enteros por teclado"
   ]
  },
  {
   "cell_type": "markdown",
   "id": "otherwise-secretary",
   "metadata": {},
   "source": [
    "## Generar la matriz"
   ]
  },
  {
   "cell_type": "code",
   "execution_count": 170,
   "id": "boring-wound",
   "metadata": {},
   "outputs": [],
   "source": [
    "def read_int_matrix():\n",
    "    matrix = np.empty(\n",
    "        (int(input('Number of rows: ')), int(input('Number of columns: '))),\n",
    "        dtype=int\n",
    "    )\n",
    "    \n",
    "    for row in range(matrix.shape[0]):\n",
    "        for col in range(matrix.shape[1]):\n",
    "            matrix[row, col] = int(input(f'Element for position ({row},{col}): '))\n",
    "    \n",
    "    return(matrix)"
   ]
  },
  {
   "cell_type": "code",
   "execution_count": 177,
   "id": "diverse-tenant",
   "metadata": {},
   "outputs": [
    {
     "name": "stdout",
     "output_type": "stream",
     "text": [
      "Number of rows: 3\n",
      "Number of columns: 3\n",
      "Element for position (0,0): 1\n",
      "Element for position (0,1): 3\n",
      "Element for position (0,2): 1\n",
      "Element for position (1,0): 4\n",
      "Element for position (1,1): 3\n",
      "Element for position (1,2): 1\n",
      "Element for position (2,0): 1\n",
      "Element for position (2,1): 5\n",
      "Element for position (2,2): 1\n",
      "\n",
      "[[1 3 1]\n",
      " [4 3 1]\n",
      " [1 5 1]]\n"
     ]
    }
   ],
   "source": [
    "int_matrix = read_int_matrix()\n",
    "print()\n",
    "print(int_matrix)"
   ]
  },
  {
   "cell_type": "markdown",
   "id": "automatic-spray",
   "metadata": {},
   "source": [
    "## 4.1 Moda de la matriz"
   ]
  },
  {
   "cell_type": "code",
   "execution_count": 185,
   "id": "confidential-player",
   "metadata": {},
   "outputs": [
    {
     "name": "stdout",
     "output_type": "stream",
     "text": [
      "The mode of the matrix is 1, with 5 appearences\n"
     ]
    }
   ],
   "source": [
    "values, frequencies = np.unique(int_matrix, return_counts=True)\n",
    "\n",
    "index = np.argmax(frequencies)\n",
    "\n",
    "mode = values[index]\n",
    "\n",
    "print(f'The mode of the matrix is {mode}, with {frequencies[index]} appearences')"
   ]
  },
  {
   "cell_type": "markdown",
   "id": "periodic-environment",
   "metadata": {},
   "source": [
    "## 4.2 Media de la matriz"
   ]
  },
  {
   "cell_type": "code",
   "execution_count": 188,
   "id": "minute-chaos",
   "metadata": {},
   "outputs": [
    {
     "name": "stdout",
     "output_type": "stream",
     "text": [
      "The mean of the matrix is 2.2222222222222223\n"
     ]
    }
   ],
   "source": [
    "print(f'The mean of the matrix is {int_matrix.mean()}')"
   ]
  },
  {
   "cell_type": "code",
   "execution_count": null,
   "id": "still-lightweight",
   "metadata": {},
   "outputs": [],
   "source": []
  }
 ],
 "metadata": {
  "kernelspec": {
   "display_name": "Python 3",
   "language": "python",
   "name": "python3"
  },
  "language_info": {
   "codemirror_mode": {
    "name": "ipython",
    "version": 3
   },
   "file_extension": ".py",
   "mimetype": "text/x-python",
   "name": "python",
   "nbconvert_exporter": "python",
   "pygments_lexer": "ipython3",
   "version": "3.8.6"
  }
 },
 "nbformat": 4,
 "nbformat_minor": 5
}
