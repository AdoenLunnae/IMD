{
 "cells": [
  {
   "cell_type": "markdown",
   "id": "electronic-shape",
   "metadata": {},
   "source": [
    "# Práctica 2: Exploración de datos con pandas"
   ]
  },
  {
   "cell_type": "markdown",
   "id": "prime-archives",
   "metadata": {},
   "source": [
    "# Importar módulos"
   ]
  },
  {
   "cell_type": "code",
   "execution_count": null,
   "id": "macro-region",
   "metadata": {
    "scrolled": true
   },
   "outputs": [],
   "source": [
    "%matplotlib inline\n",
    "\n",
    "import pandas as pd\n",
    "import numpy as np\n",
    "import matplotlib\n",
    "import matplotlib.pyplot as plt\n",
    "from sklearn import preprocessing"
   ]
  },
  {
   "cell_type": "markdown",
   "id": "cardiac-audio",
   "metadata": {},
   "source": [
    "## 1. Obtener 3 datasets"
   ]
  },
  {
   "cell_type": "markdown",
   "id": "alone-macedonia",
   "metadata": {},
   "source": [
    "Los datasets escogidos son:\n",
    "- [Iris](https://archive.ics.uci.edu/ml/machine-learning-databases/iris/iris.data)\n",
    "- [Calidad de vino tinto](https://archive.ics.uci.edu/ml/machine-learning-databases/wine-quality/winequality-red.csv)\n",
    "- [Incendios forestales](https://archive.ics.uci.edu/ml/machine-learning-databases/forest-fires/forestfires.csv)"
   ]
  },
  {
   "cell_type": "markdown",
   "id": "documented-vietnamese",
   "metadata": {},
   "source": [
    "## 2. Cargarlos con pandas y mostrar el histograma"
   ]
  },
  {
   "cell_type": "code",
   "execution_count": null,
   "id": "sixth-compilation",
   "metadata": {
    "scrolled": true
   },
   "outputs": [],
   "source": [
    "wine_df = pd.read_csv('winequality-red.csv', header=0, delimiter=';')\n",
    "iris_df = pd.read_csv('iris.csv', delimiter=',', header=None, names=['sepal_length', 'sepal_width', 'petal_length', 'petal_width','class'])\n",
    "fires_df = pd.read_csv('forestfires.csv',header=0)"
   ]
  },
  {
   "cell_type": "markdown",
   "id": "refined-indication",
   "metadata": {},
   "source": [
    "### Preprocesamiento\n",
    "\n"
   ]
  },
  {
   "cell_type": "code",
   "execution_count": null,
   "id": "covered-payment",
   "metadata": {
    "scrolled": true
   },
   "outputs": [],
   "source": [
    "processed_iris=pd.get_dummies(iris_df)\n",
    "\n",
    "processed_wine = wine_df.copy()\n",
    "\n",
    "quality_type = pd.CategoricalDtype(\n",
    "    categories=[1, 2, 3, 4, 5, 6, 7, 8, 9, 10],\n",
    "    ordered=True\n",
    ")\n",
    "\n",
    "processed_wine['quality'] = processed_wine['quality'].astype(quality_type)\n",
    "\n",
    "month_type = pd.CategoricalDtype(\n",
    "    categories=['jan', 'feb', 'mar', 'apr', 'may', 'jun', 'jul', 'aug', 'sep', 'oct', 'nov', 'dec'],\n",
    "    ordered=True\n",
    ")\n",
    "\n",
    "day_type = pd.CategoricalDtype(\n",
    "    categories=['mon', 'tue', 'wed', 'thu', 'fri', 'sat', 'sun'],\n",
    "    ordered=True\n",
    ")\n",
    "\n",
    "processed_fires = fires_df.copy()\n",
    "processed_fires['month'] = processed_fires['month'].astype(month_type)\n",
    "processed_fires['day'] = processed_fires['day'].astype(day_type)\n",
    "\n",
    "\n",
    "#It's between 0 and 1.5k, but skewed towards 0, so a log representation is  more useful\n",
    "processed_fires['area'] = np.log(processed_fires['area']+1) \n",
    "\n",
    "\n",
    "plt.show()\n"
   ]
  },
  {
   "cell_type": "markdown",
   "id": "protected-rings",
   "metadata": {},
   "source": [
    "### Histogramas"
   ]
  },
  {
   "cell_type": "code",
   "execution_count": null,
   "id": "swiss-vienna",
   "metadata": {
    "scrolled": false
   },
   "outputs": [],
   "source": [
    "processed_wine.hist(figsize=[10,10])\n",
    "processed_iris.hist(figsize=[8,8], bins=6)\n",
    "processed_fires.hist(figsize=[10,10])\n",
    "\n",
    "plt.show()"
   ]
  },
  {
   "cell_type": "markdown",
   "id": "interested-optimization",
   "metadata": {},
   "source": [
    "Con estos histogramas podemos ver la distribución de cada atributo (excepto los que hemos dejado como nominales, para los que necesitaríamos un gráfico de barras como estos:"
   ]
  },
  {
   "cell_type": "code",
   "execution_count": null,
   "id": "fantastic-desktop",
   "metadata": {
    "scrolled": false
   },
   "outputs": [],
   "source": [
    "processed_fires['day'].value_counts(sort=False).plot.bar(rot=0)\n",
    "plt.show()\n",
    "\n",
    "processed_fires['month'].value_counts(sort=False).plot.bar(rot=0)\n",
    "plt.show()"
   ]
  },
  {
   "cell_type": "markdown",
   "id": "social-clarity",
   "metadata": {},
   "source": [
    "## 3. Efectos de normalizar y estandarizar el dataset"
   ]
  },
  {
   "cell_type": "code",
   "execution_count": null,
   "id": "fancy-veteran",
   "metadata": {
    "scrolled": false
   },
   "outputs": [],
   "source": [
    "def standardize(df: pd.DataFrame):\n",
    "    res = df.copy()\n",
    "    scaler = preprocessing.StandardScaler()\n",
    "    \n",
    "    num_df = df.select_dtypes(exclude=['object', 'category'])\n",
    "    res[num_df.columns] = scaler.fit_transform(num_df)\n",
    "    return res\n",
    "\n",
    "def normalize(df: pd.DataFrame):\n",
    "    res = df.copy()\n",
    "    scaler = preprocessing.MinMaxScaler()\n",
    "    \n",
    "    num_df = df.select_dtypes(exclude=['object', 'category'])\n",
    "    res[num_df.columns] = scaler.fit_transform(num_df)\n",
    "    return res\n",
    "    "
   ]
  },
  {
   "cell_type": "code",
   "execution_count": null,
   "id": "asian-exclusive",
   "metadata": {
    "scrolled": false
   },
   "outputs": [],
   "source": [
    "standard_fires = standardize(processed_fires)\n",
    "normalized_fires = normalize(processed_fires)\n",
    "\n",
    "standard_iris = standardize(processed_iris)\n",
    "normalized_iris = normalize(processed_iris)\n",
    "\n",
    "standard_wine = standardize(processed_wine)\n",
    "normalized_wine = normalize(processed_wine)\n"
   ]
  },
  {
   "cell_type": "code",
   "execution_count": null,
   "id": "adequate-jordan",
   "metadata": {
    "scrolled": false
   },
   "outputs": [],
   "source": [
    "standard_fires.hist(figsize=(10,10))\n",
    "normalized_fires.hist(figsize=(10,10))\n",
    "\n",
    "plt.show()"
   ]
  },
  {
   "cell_type": "markdown",
   "id": "pleased-dominant",
   "metadata": {},
   "source": [
    "La normalización y la estandarización tienen eel efecto en los histogramas de cada atributo por separado, de mantener la misma forma cambiando el rango.\n",
    "\n",
    "Si mostramos todos los atributos en un único histograma podremos apreciarlos mejor:"
   ]
  },
  {
   "cell_type": "code",
   "execution_count": null,
   "id": "numeric-atlas",
   "metadata": {
    "scrolled": false
   },
   "outputs": [],
   "source": [
    "processed_wine.plot.hist()\n",
    "standard_wine.plot.hist()\n",
    "normalized_wine.plot.hist()\n",
    "plt.show()"
   ]
  },
  {
   "cell_type": "markdown",
   "id": "reported-element",
   "metadata": {},
   "source": [
    "En este caso, la gráfica estandarizada nos permite tenerlas en un rango similar donde podemos apreciar su distribución, mientras que normalizada al intervalo $[0,1]$ pierde algo de información sobre la distribución relativa, pero nos permite tenerlos en el mismo rango, lo que es útil para compararlas."
   ]
  },
  {
   "cell_type": "markdown",
   "id": "central-newton",
   "metadata": {},
   "source": [
    "# 5. Scatter plot"
   ]
  },
  {
   "cell_type": "code",
   "execution_count": null,
   "id": "resistant-repository",
   "metadata": {
    "scrolled": false
   },
   "outputs": [],
   "source": [
    "pd.plotting.scatter_matrix(processed_iris, figsize=(20,20))\n",
    "processed_iris.plot.scatter(x='petal_width', y='class_Iris-setosa')\n",
    "processed_iris.plot.scatter(x='petal_length', y='class_Iris-setosa')\n",
    "processed_iris.plot.scatter(x='petal_length', y='petal_width')\n",
    "\n",
    "plt.show()"
   ]
  },
  {
   "cell_type": "markdown",
   "id": "alternate-basket",
   "metadata": {},
   "source": [
    "Podemos ver, por ejemplo, que las Iris con longitud de pétalo menor a 3 o anchura menor a 1 son todas Setosa, o apreciar la correlación entre la longitud y la anchura del pétalo. También se aprecian _clusters_, que podrían coincidir con alguna de las clases."
   ]
  },
  {
   "cell_type": "code",
   "execution_count": null,
   "id": "reverse-playback",
   "metadata": {
    "scrolled": false
   },
   "outputs": [],
   "source": [
    "pd.plotting.scatter_matrix(processed_fires, figsize=(20,20))\n",
    "pd.plotting.scatter_matrix(processed_wine, figsize=(20,20))\n",
    "\n",
    "plt.show()"
   ]
  },
  {
   "cell_type": "markdown",
   "id": "sticky-discrimination",
   "metadata": {},
   "source": [
    "En general, los diagramas de dispersión, especialmente en forma de matriz, nos permiten apreciar mejor la relación entre las distintas variables, localizar posibles patrones y, en caso de usar distintos marcadores o colores para cada clase, incluso detectar qué atributos aportan más información y cuáles son irrelevantes."
   ]
  },
  {
   "cell_type": "markdown",
   "id": "editorial-organ",
   "metadata": {},
   "source": [
    "## 6. Normalización y estandarización en diagramas"
   ]
  },
  {
   "cell_type": "code",
   "execution_count": null,
   "id": "educated-satin",
   "metadata": {},
   "outputs": [],
   "source": [
    "pd.plotting.scatter_matrix(normalized_iris, figsize=(15,15))\n",
    "pd.plotting.scatter_matrix(standard_iris, figsize=(15,15))\n",
    "plt.show()"
   ]
  },
  {
   "cell_type": "markdown",
   "id": "korean-graphic",
   "metadata": {},
   "source": [
    "De nuevo, la estandarización y la normalización no intervienen en la forma ni la distribución, sino en el rango de valores."
   ]
  },
  {
   "cell_type": "markdown",
   "id": "demonstrated-drill",
   "metadata": {},
   "source": [
    "## 8. Diagrama de correlaciones"
   ]
  },
  {
   "cell_type": "code",
   "execution_count": null,
   "id": "romantic-lingerie",
   "metadata": {},
   "outputs": [],
   "source": [
    "plt.matshow(processed_iris.corr())\n",
    "plt.xticks(range(len(processed_iris.columns)), processed_iris.columns, rotation='vertical')\n",
    "plt.yticks(range(len(processed_iris.columns)), processed_iris.columns)\n",
    "plt.title(\"Iris correlation matrix\")\n",
    "\n",
    "\n",
    "num_wine = processed_wine.select_dtypes('number')\n",
    "plt.matshow(num_wine.corr())\n",
    "plt.xticks(\n",
    "    range(len(num_wine.columns)), num_wine.columns, rotation='vertical'\n",
    ")\n",
    "plt.yticks(\n",
    "    range(len(num_wine.columns)), num_wine.columns\n",
    ")\n",
    "plt.title(\"Wine quality correlation matrix\")\n",
    "\n",
    "\n",
    "num_fires = processed_fires.select_dtypes('number')\n",
    "plt.matshow(num_fires.corr())\n",
    "plt.xticks(\n",
    "    range(len(num_fires.columns)), num_fires.columns, rotation='vertical'\n",
    ")\n",
    "\n",
    "plt.yticks(\n",
    "    range(len(num_fires.columns)),\n",
    "    num_fires.columns\n",
    ")\n",
    "plt.title(\"Forest fire correlation matrix\")\n",
    "\n",
    "plt.show()\n",
    "\n"
   ]
  },
  {
   "cell_type": "markdown",
   "id": "regional-medication",
   "metadata": {},
   "source": [
    "## 9. Representación en coordenadas paralelas"
   ]
  },
  {
   "cell_type": "code",
   "execution_count": null,
   "id": "absent-castle",
   "metadata": {
    "scrolled": false
   },
   "outputs": [],
   "source": [
    "pd.plotting.parallel_coordinates(iris_df, class_column='class', colormap='viridis')\n",
    "plt.show()\n",
    "\n",
    "pd.plotting.parallel_coordinates(standard_wine, class_column='quality')\n",
    "plt.xticks(rotation='vertical')\n",
    "plt.show()\n",
    "\n",
    "pd.plotting.parallel_coordinates(fires_df.select_dtypes('number'), class_column='area')\n",
    "plt.xticks(rotation='vertical')\n",
    "plt.legend([])\n",
    "plt.show()"
   ]
  },
  {
   "cell_type": "markdown",
   "id": "velvet-shame",
   "metadata": {},
   "source": [
    "En este caso, la representación en coordenadas paralelas aporta información sobre todo en el caso de Iris, pues podemos ver también la separación entre las Setosa y el resto según el tamaño de los pétalos. El caso del conjunto Forest Fires, al ser \"area\", una variable continua, no podemos apreciar gran cosa. Podríamos, por ejemplo, discretizarla en intervalos.\n",
    "En el caso de Wine Quality, reduciento las clases que se muestran o el número de atibutos debería ser suficiente."
   ]
  }
 ],
 "metadata": {
  "kernelspec": {
   "display_name": "Python 3",
   "language": "python",
   "name": "python3"
  },
  "language_info": {
   "codemirror_mode": {
    "name": "ipython",
    "version": 3
   },
   "file_extension": ".py",
   "mimetype": "text/x-python",
   "name": "python",
   "nbconvert_exporter": "python",
   "pygments_lexer": "ipython3",
   "version": "3.8.6"
  }
 },
 "nbformat": 4,
 "nbformat_minor": 5
}
